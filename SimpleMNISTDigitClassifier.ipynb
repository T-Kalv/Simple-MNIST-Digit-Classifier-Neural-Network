{
 "cells": [
  {
   "cell_type": "markdown",
   "id": "b43c64c3",
   "metadata": {},
   "source": [
    "# Simple MNIST Digit Classifier Neural Network\n",
    "*(Made in Python from Scratch)*"
   ]
  },
  {
   "cell_type": "markdown",
   "id": "771120bc",
   "metadata": {},
   "source": [
    "### Import numpy, pandas, matlplotlib (only libraries* we will be using)"
   ]
  },
  {
   "cell_type": "code",
   "execution_count": null,
   "id": "5082578b",
   "metadata": {},
   "outputs": [],
   "source": [
    "import numpy as np\n",
    "import matplotlib.pyplot as plt\n",
    "import pandas as pd\n",
    "from tqdm import tqdm#used for showing progress bar during training"
   ]
  },
  {
   "cell_type": "markdown",
   "id": "17aff93a",
   "metadata": {},
   "source": [
    "### Import MNIST Dataset\n",
    "*- Traning Dataset: https://www.kaggle.com/competitions/digit-recognizer/data?select=train.csv*\n",
    "\n",
    "*- Testing Dataset: https://www.kaggle.com/competitions/digit-recognizer/data?select=test.csv*"
   ]
  },
  {
   "cell_type": "code",
   "execution_count": 42,
   "id": "e9bf7885",
   "metadata": {},
   "outputs": [
    {
     "data": {
      "text/html": [
       "<div>\n",
       "<style scoped>\n",
       "    .dataframe tbody tr th:only-of-type {\n",
       "        vertical-align: middle;\n",
       "    }\n",
       "\n",
       "    .dataframe tbody tr th {\n",
       "        vertical-align: top;\n",
       "    }\n",
       "\n",
       "    .dataframe thead th {\n",
       "        text-align: right;\n",
       "    }\n",
       "</style>\n",
       "<table border=\"1\" class=\"dataframe\">\n",
       "  <thead>\n",
       "    <tr style=\"text-align: right;\">\n",
       "      <th></th>\n",
       "      <th>label</th>\n",
       "      <th>pixel0</th>\n",
       "      <th>pixel1</th>\n",
       "      <th>pixel2</th>\n",
       "      <th>pixel3</th>\n",
       "      <th>pixel4</th>\n",
       "      <th>pixel5</th>\n",
       "      <th>pixel6</th>\n",
       "      <th>pixel7</th>\n",
       "      <th>pixel8</th>\n",
       "      <th>...</th>\n",
       "      <th>pixel774</th>\n",
       "      <th>pixel775</th>\n",
       "      <th>pixel776</th>\n",
       "      <th>pixel777</th>\n",
       "      <th>pixel778</th>\n",
       "      <th>pixel779</th>\n",
       "      <th>pixel780</th>\n",
       "      <th>pixel781</th>\n",
       "      <th>pixel782</th>\n",
       "      <th>pixel783</th>\n",
       "    </tr>\n",
       "  </thead>\n",
       "  <tbody>\n",
       "    <tr>\n",
       "      <th>0</th>\n",
       "      <td>1</td>\n",
       "      <td>0</td>\n",
       "      <td>0</td>\n",
       "      <td>0</td>\n",
       "      <td>0</td>\n",
       "      <td>0</td>\n",
       "      <td>0</td>\n",
       "      <td>0</td>\n",
       "      <td>0</td>\n",
       "      <td>0</td>\n",
       "      <td>...</td>\n",
       "      <td>0</td>\n",
       "      <td>0</td>\n",
       "      <td>0</td>\n",
       "      <td>0</td>\n",
       "      <td>0</td>\n",
       "      <td>0</td>\n",
       "      <td>0</td>\n",
       "      <td>0</td>\n",
       "      <td>0</td>\n",
       "      <td>0</td>\n",
       "    </tr>\n",
       "    <tr>\n",
       "      <th>1</th>\n",
       "      <td>0</td>\n",
       "      <td>0</td>\n",
       "      <td>0</td>\n",
       "      <td>0</td>\n",
       "      <td>0</td>\n",
       "      <td>0</td>\n",
       "      <td>0</td>\n",
       "      <td>0</td>\n",
       "      <td>0</td>\n",
       "      <td>0</td>\n",
       "      <td>...</td>\n",
       "      <td>0</td>\n",
       "      <td>0</td>\n",
       "      <td>0</td>\n",
       "      <td>0</td>\n",
       "      <td>0</td>\n",
       "      <td>0</td>\n",
       "      <td>0</td>\n",
       "      <td>0</td>\n",
       "      <td>0</td>\n",
       "      <td>0</td>\n",
       "    </tr>\n",
       "    <tr>\n",
       "      <th>2</th>\n",
       "      <td>1</td>\n",
       "      <td>0</td>\n",
       "      <td>0</td>\n",
       "      <td>0</td>\n",
       "      <td>0</td>\n",
       "      <td>0</td>\n",
       "      <td>0</td>\n",
       "      <td>0</td>\n",
       "      <td>0</td>\n",
       "      <td>0</td>\n",
       "      <td>...</td>\n",
       "      <td>0</td>\n",
       "      <td>0</td>\n",
       "      <td>0</td>\n",
       "      <td>0</td>\n",
       "      <td>0</td>\n",
       "      <td>0</td>\n",
       "      <td>0</td>\n",
       "      <td>0</td>\n",
       "      <td>0</td>\n",
       "      <td>0</td>\n",
       "    </tr>\n",
       "    <tr>\n",
       "      <th>3</th>\n",
       "      <td>4</td>\n",
       "      <td>0</td>\n",
       "      <td>0</td>\n",
       "      <td>0</td>\n",
       "      <td>0</td>\n",
       "      <td>0</td>\n",
       "      <td>0</td>\n",
       "      <td>0</td>\n",
       "      <td>0</td>\n",
       "      <td>0</td>\n",
       "      <td>...</td>\n",
       "      <td>0</td>\n",
       "      <td>0</td>\n",
       "      <td>0</td>\n",
       "      <td>0</td>\n",
       "      <td>0</td>\n",
       "      <td>0</td>\n",
       "      <td>0</td>\n",
       "      <td>0</td>\n",
       "      <td>0</td>\n",
       "      <td>0</td>\n",
       "    </tr>\n",
       "    <tr>\n",
       "      <th>4</th>\n",
       "      <td>0</td>\n",
       "      <td>0</td>\n",
       "      <td>0</td>\n",
       "      <td>0</td>\n",
       "      <td>0</td>\n",
       "      <td>0</td>\n",
       "      <td>0</td>\n",
       "      <td>0</td>\n",
       "      <td>0</td>\n",
       "      <td>0</td>\n",
       "      <td>...</td>\n",
       "      <td>0</td>\n",
       "      <td>0</td>\n",
       "      <td>0</td>\n",
       "      <td>0</td>\n",
       "      <td>0</td>\n",
       "      <td>0</td>\n",
       "      <td>0</td>\n",
       "      <td>0</td>\n",
       "      <td>0</td>\n",
       "      <td>0</td>\n",
       "    </tr>\n",
       "  </tbody>\n",
       "</table>\n",
       "<p>5 rows × 785 columns</p>\n",
       "</div>"
      ],
      "text/plain": [
       "   label  pixel0  pixel1  pixel2  pixel3  pixel4  pixel5  pixel6  pixel7  \\\n",
       "0      1       0       0       0       0       0       0       0       0   \n",
       "1      0       0       0       0       0       0       0       0       0   \n",
       "2      1       0       0       0       0       0       0       0       0   \n",
       "3      4       0       0       0       0       0       0       0       0   \n",
       "4      0       0       0       0       0       0       0       0       0   \n",
       "\n",
       "   pixel8  ...  pixel774  pixel775  pixel776  pixel777  pixel778  pixel779  \\\n",
       "0       0  ...         0         0         0         0         0         0   \n",
       "1       0  ...         0         0         0         0         0         0   \n",
       "2       0  ...         0         0         0         0         0         0   \n",
       "3       0  ...         0         0         0         0         0         0   \n",
       "4       0  ...         0         0         0         0         0         0   \n",
       "\n",
       "   pixel780  pixel781  pixel782  pixel783  \n",
       "0         0         0         0         0  \n",
       "1         0         0         0         0  \n",
       "2         0         0         0         0  \n",
       "3         0         0         0         0  \n",
       "4         0         0         0         0  \n",
       "\n",
       "[5 rows x 785 columns]"
      ]
     },
     "execution_count": 42,
     "metadata": {},
     "output_type": "execute_result"
    }
   ],
   "source": [
    "trainingData = pd.read_csv('Data/digit-recognizer/train.csv')\n",
    "trainingData.head()"
   ]
  },
  {
   "cell_type": "markdown",
   "id": "3b7f6b8d",
   "metadata": {},
   "source": [
    "### Convert to numpy arrays, split data"
   ]
  },
  {
   "cell_type": "code",
   "execution_count": 43,
   "id": "8c916d0b",
   "metadata": {},
   "outputs": [],
   "source": [
    "trainingData = np.array(trainingData) #convert pandas dataframe to numpy array so we can do linear algebra\n",
    "numExamples, numFeatures = trainingData.shape#rows, columns\n",
    "\n",
    "np.random.shuffle(trainingData)#shuffle and split into mini batches for computational speed up\n",
    "\n",
    "# Split into dev and train sets\n",
    "devData = trainingData[0:1000].T#x\n",
    "trainData = trainingData[1000:].T#y\n",
    "\n",
    "# Development set\n",
    "devLabels = devData[0]\n",
    "devImages = devData[1:numFeatures]    \n",
    "\n",
    "# Training set\n",
    "trainLabels = trainData[0]\n",
    "trainImages = trainData[1:numFeatures]\n"
   ]
  },
  {
   "cell_type": "markdown",
   "id": "4c6cf675",
   "metadata": {},
   "source": [
    "### Initialise Neural Network Parameters"
   ]
  },
  {
   "cell_type": "code",
   "execution_count": 44,
   "id": "24241a39",
   "metadata": {},
   "outputs": [],
   "source": [
    "def initaliseParamaters():\n",
    "    #global weight2\n",
    "    weight1 = np.random.rand(10,784)-0.5#generate random values between -0.5 and 0.5 bias\n",
    "    weight2 = np.random.rand(10,10)-0.5\n",
    "    bias1 = np.random.rand(10,1)-0.5\n",
    "    bias2 = np.random.rand(10,1)-0.5\n",
    "    return weight1, bias1, weight2, bias2"
   ]
  },
  {
   "cell_type": "markdown",
   "id": "7cc2229e",
   "metadata": {},
   "source": [
    "### ReLu (Rectified Linear Unit) Actitvation Function\n",
    "$\n",
    "\\text{ReLU}(x) = \\max(0, x)\n",
    "$\n"
   ]
  },
  {
   "cell_type": "code",
   "execution_count": 45,
   "id": "d51695b6",
   "metadata": {},
   "outputs": [],
   "source": [
    "def ReLuFunc(Z):#easier to train that sigmoid activatin function\n",
    "    return np.maximum(0, Z)#go through each element in Z and if it is greater than 0 then z else return 0"
   ]
  },
  {
   "cell_type": "markdown",
   "id": "400cefc6",
   "metadata": {},
   "source": [
    "### Derivative ReLu (Rectified Linear Unit) Activation Function\n",
    "$\n",
    "\\text{ReLU}'(x) = \n",
    "\\begin{cases} \n",
    "0 & \\text{if } x < 0 \\\\ \n",
    "1 & \\text{if } x > 0 \n",
    "\\end{cases}\n",
    "$\n"
   ]
  },
  {
   "cell_type": "code",
   "execution_count": null,
   "id": "167a8822",
   "metadata": {},
   "outputs": [],
   "source": [
    "def ReLuFuncDeriv(Z):\n",
    "    return Z > 0"
   ]
  },
  {
   "cell_type": "markdown",
   "id": "e31e649a",
   "metadata": {},
   "source": [
    "### SoftMax Activation Function\n",
    "$\n",
    "\\text{softmax}(\\mathbf{z})_i = \\frac{e^{z_i}}{\\sum_{j=1}^{K} e^{z_j}} \\quad\n",
    "$\n"
   ]
  },
  {
   "cell_type": "code",
   "execution_count": 47,
   "id": "1d53dd92",
   "metadata": {},
   "outputs": [],
   "source": [
    "def softMaxFunc(Z):#softmax activation function formula\n",
    "    expZ = np.exp(Z - np.max(Z, axis=0, keepdims=True))\n",
    "    return expZ / np.sum(expZ, axis=0, keepdims=True)\n"
   ]
  },
  {
   "cell_type": "markdown",
   "id": "82f94078",
   "metadata": {},
   "source": [
    "### Forward Propagation"
   ]
  },
  {
   "cell_type": "code",
   "execution_count": 48,
   "id": "a7d6f063",
   "metadata": {},
   "outputs": [],
   "source": [
    "def forwardPropagation(weight1, bias1, weight2, bias2, X):\n",
    "    Z1 = weight1.dot(X) + bias1\n",
    "    A1 = ReLuFunc(Z1)\n",
    "    Z2 = weight2.dot(A1) + bias2\n",
    "    A2 = softMaxFunc(Z2)\n",
    "    return Z1, A1, Z2, A2"
   ]
  },
  {
   "cell_type": "markdown",
   "id": "34ec8f96",
   "metadata": {},
   "source": [
    "### One-Hot Encoding\n",
    "$\n",
    "\\text{one\\_hot}(i, K) = \n",
    "\\begin{bmatrix}\n",
    "0 \\\\\n",
    "0 \\\\\n",
    "\\vdots \\\\\n",
    "1 \\\\\n",
    "\\vdots \\\\\n",
    "0\n",
    "\\end{bmatrix} \\quad \\text{where } 1 \\text{ is the index } i \\text{ and } K \\text{ is total number of classes}\n",
    "$\n"
   ]
  },
  {
   "cell_type": "code",
   "execution_count": 49,
   "id": "aea781a6",
   "metadata": {},
   "outputs": [],
   "source": [
    "def oneHotEncode(Y):\n",
    "    oneHotYMatrix = np.zeros((Y.size, Y.max()+1))#creates matrix array of zeros with 10 output classes 0 to 9\n",
    "    oneHotYMatrix[np.arange(Y.size),Y] = 1#goes through each row specified by the label Y and sets it to 1\n",
    "    oneHotYMatrix = oneHotYMatrix.T#flip through transpose so each coloumn is example instead of row\n",
    "    return oneHotYMatrix"
   ]
  },
  {
   "cell_type": "markdown",
   "id": "c16d65d7",
   "metadata": {},
   "source": [
    "### Backpropagation"
   ]
  },
  {
   "cell_type": "code",
   "execution_count": 50,
   "id": "549de1c7",
   "metadata": {},
   "outputs": [],
   "source": [
    "def backPropagation(Z1, A1, Z2, A2, weight2, X, Y):\n",
    "    oneHotYMatrix = oneHotEncode(Y)\n",
    "    m = Y.size\n",
    "    dZ2 = A2 - oneHotYMatrix\n",
    "    dW2 = 1/m * dZ2.dot(A1.T)\n",
    "    dB2 = 1/m * np.sum(dZ2, axis=1, keepdims=True)\n",
    "    dZ1 = weight2.T.dot(dZ2) * ReLuFuncDeriv(Z1)\n",
    "    dW1 = 1/m * dZ1.dot(X.T)\n",
    "    dB1 = 1/m * np.sum(dZ1, axis=1, keepdims=True)\n",
    "    return dW1, dB1, dW2, dB2\n"
   ]
  },
  {
   "cell_type": "markdown",
   "id": "d9af8396",
   "metadata": {},
   "source": [
    "### Update Paramaters (rate of learning)"
   ]
  },
  {
   "cell_type": "code",
   "execution_count": 51,
   "id": "81028586",
   "metadata": {},
   "outputs": [],
   "source": [
    "def updateParameters(weight1, bias1, weight2, bias2, dW1, dB1, dW2, dB2, α):\n",
    "    weight1 = weight1 - α*dW1\n",
    "    weight2 = weight2 - α * dW2\n",
    "    bias2 = bias2 - α*dB2\n",
    "    bias1 = bias1 - α*dB1\n",
    "    return weight1, bias1, weight2, bias2"
   ]
  },
  {
   "cell_type": "markdown",
   "id": "88c28383",
   "metadata": {},
   "source": [
    "### Fetch Predictitons & Accuracy"
   ]
  },
  {
   "cell_type": "code",
   "execution_count": 52,
   "id": "5144c9e5",
   "metadata": {},
   "outputs": [],
   "source": [
    "def fetchPredictions(A2):\n",
    "    return np.argmax(A2, 0)\n",
    "\n",
    "def fetchAccuracy(prediction, Y):\n",
    "    print(prediction, Y)\n",
    "    return np.sum(prediction == Y) / (Y.size)"
   ]
  },
  {
   "cell_type": "markdown",
   "id": "093e7cd8",
   "metadata": {},
   "source": [
    "### Gradient Descent"
   ]
  },
  {
   "cell_type": "code",
   "execution_count": 53,
   "id": "e08f7deb",
   "metadata": {},
   "outputs": [],
   "source": [
    "trainImages = trainImages / 255.0\n",
    "devImages   = devImages   / 255.0\n",
    "\n",
    "def gradientDescent(X, Y, epochs, α):\n",
    "    weight1, bias1, weight2, bias2 = initaliseParamaters()\n",
    "    for epoch in tqdm(range(epochs), desc=\"Training Progress\"):\n",
    "        Z1, A1, Z2, A2 = forwardPropagation(weight1, bias1, weight2, bias2, X)\n",
    "        dW1, dB1, dW2, dB2 = backPropagation(Z1, A1, Z2, A2, weight2, X, Y)\n",
    "        weight1, bias1, weight2, bias2 = updateParameters(weight1, bias1, weight2, bias2, dW1, dB1, dW2, dB2, α)\n",
    "        if epoch % 10 == 0:#every 10th interation\n",
    "            accuracy = fetchAccuracy(fetchPredictions(A2), Y)\n",
    "            #print(f\"Epoch: {epoch}\")\n",
    "            #print(\"Probability Accuracy: \", fetchAccuracy(fetchPredictions(A2), Y))\n",
    "            tqdm.write(f\"Epoch {epoch} - Probability Accuracy: {accuracy}\")\n",
    "    return weight1, bias1, weight2, bias2\n",
    "    "
   ]
  },
  {
   "cell_type": "code",
   "execution_count": 54,
   "id": "c4db864e",
   "metadata": {},
   "outputs": [
    {
     "name": "stderr",
     "output_type": "stream",
     "text": [
      "Training Progress:   0%|          | 1/1000 [00:00<03:10,  5.26it/s]"
     ]
    },
    {
     "name": "stdout",
     "output_type": "stream",
     "text": [
      "[9 2 1 ... 2 2 5] [9 8 6 ... 9 0 4]\n",
      "Epoch 0 - Probability Accuracy: 0.11197560975609756\n"
     ]
    },
    {
     "name": "stderr",
     "output_type": "stream",
     "text": [
      "Training Progress:   1%|          | 12/1000 [00:01<01:32, 10.72it/s]"
     ]
    },
    {
     "name": "stdout",
     "output_type": "stream",
     "text": [
      "[9 5 6 ... 3 5 5] [9 8 6 ... 9 0 4]\n",
      "Epoch 10 - Probability Accuracy: 0.20009756097560977\n"
     ]
    },
    {
     "name": "stderr",
     "output_type": "stream",
     "text": [
      "Training Progress:   2%|▏         | 22/1000 [00:02<02:18,  7.07it/s]"
     ]
    },
    {
     "name": "stdout",
     "output_type": "stream",
     "text": [
      "[9 8 6 ... 3 0 8] [9 8 6 ... 9 0 4]\n",
      "Epoch 20 - Probability Accuracy: 0.29517073170731706\n"
     ]
    },
    {
     "name": "stderr",
     "output_type": "stream",
     "text": [
      "Training Progress:   3%|▎         | 31/1000 [00:04<02:18,  6.98it/s]"
     ]
    },
    {
     "name": "stdout",
     "output_type": "stream",
     "text": [
      "[9 8 6 ... 3 0 8] [9 8 6 ... 9 0 4]\n",
      "Epoch 30 - Probability Accuracy: 0.3809268292682927\n"
     ]
    },
    {
     "name": "stderr",
     "output_type": "stream",
     "text": [
      "Training Progress:   4%|▍         | 43/1000 [00:05<01:36,  9.90it/s]"
     ]
    },
    {
     "name": "stdout",
     "output_type": "stream",
     "text": [
      "[9 8 6 ... 9 0 8] [9 8 6 ... 9 0 4]\n",
      "Epoch 40 - Probability Accuracy: 0.4542439024390244\n"
     ]
    },
    {
     "name": "stderr",
     "output_type": "stream",
     "text": [
      "Training Progress:   5%|▌         | 53/1000 [00:07<01:55,  8.18it/s]"
     ]
    },
    {
     "name": "stdout",
     "output_type": "stream",
     "text": [
      "[9 8 6 ... 9 0 8] [9 8 6 ... 9 0 4]\n",
      "Epoch 50 - Probability Accuracy: 0.5144390243902439\n"
     ]
    },
    {
     "name": "stderr",
     "output_type": "stream",
     "text": [
      "Training Progress:   6%|▌         | 61/1000 [00:07<02:04,  7.51it/s]"
     ]
    },
    {
     "name": "stdout",
     "output_type": "stream",
     "text": [
      "[9 8 6 ... 9 0 8] [9 8 6 ... 9 0 4]\n",
      "Epoch 60 - Probability Accuracy: 0.5617560975609757\n"
     ]
    },
    {
     "name": "stderr",
     "output_type": "stream",
     "text": [
      "Training Progress:   7%|▋         | 72/1000 [00:09<02:24,  6.42it/s]"
     ]
    },
    {
     "name": "stdout",
     "output_type": "stream",
     "text": [
      "[9 8 6 ... 9 0 8] [9 8 6 ... 9 0 4]\n",
      "Epoch 70 - Probability Accuracy: 0.6004878048780488\n"
     ]
    },
    {
     "name": "stderr",
     "output_type": "stream",
     "text": [
      "Training Progress:   8%|▊         | 82/1000 [00:10<02:08,  7.15it/s]"
     ]
    },
    {
     "name": "stdout",
     "output_type": "stream",
     "text": [
      "[4 8 6 ... 9 0 8] [9 8 6 ... 9 0 4]\n",
      "Epoch 80 - Probability Accuracy: 0.631390243902439\n"
     ]
    },
    {
     "name": "stderr",
     "output_type": "stream",
     "text": [
      "Training Progress:   9%|▉         | 93/1000 [00:11<01:08, 13.28it/s]"
     ]
    },
    {
     "name": "stdout",
     "output_type": "stream",
     "text": [
      "[4 8 6 ... 9 0 9] [9 8 6 ... 9 0 4]\n",
      "Epoch 90 - Probability Accuracy: 0.6560487804878049\n"
     ]
    },
    {
     "name": "stderr",
     "output_type": "stream",
     "text": [
      "Training Progress:  10%|█         | 101/1000 [00:12<01:59,  7.51it/s]"
     ]
    },
    {
     "name": "stdout",
     "output_type": "stream",
     "text": [
      "[4 8 6 ... 9 0 9] [9 8 6 ... 9 0 4]\n",
      "Epoch 100 - Probability Accuracy: 0.6732682926829269\n"
     ]
    },
    {
     "name": "stderr",
     "output_type": "stream",
     "text": [
      "Training Progress:  11%|█         | 112/1000 [00:13<01:23, 10.62it/s]"
     ]
    },
    {
     "name": "stdout",
     "output_type": "stream",
     "text": [
      "[4 8 6 ... 9 0 9] [9 8 6 ... 9 0 4]\n",
      "Epoch 110 - Probability Accuracy: 0.6890243902439024\n"
     ]
    },
    {
     "name": "stderr",
     "output_type": "stream",
     "text": [
      "Training Progress:  12%|█▏        | 121/1000 [00:15<03:23,  4.31it/s]"
     ]
    },
    {
     "name": "stdout",
     "output_type": "stream",
     "text": [
      "[4 8 6 ... 9 0 9] [9 8 6 ... 9 0 4]\n",
      "Epoch 120 - Probability Accuracy: 0.7032926829268292\n"
     ]
    },
    {
     "name": "stderr",
     "output_type": "stream",
     "text": [
      "Training Progress:  13%|█▎        | 133/1000 [00:16<01:20, 10.74it/s]"
     ]
    },
    {
     "name": "stdout",
     "output_type": "stream",
     "text": [
      "[4 8 6 ... 9 0 9] [9 8 6 ... 9 0 4]\n",
      "Epoch 130 - Probability Accuracy: 0.7147560975609756\n"
     ]
    },
    {
     "name": "stderr",
     "output_type": "stream",
     "text": [
      "Training Progress:  14%|█▍        | 144/1000 [00:17<01:12, 11.78it/s]"
     ]
    },
    {
     "name": "stdout",
     "output_type": "stream",
     "text": [
      "[4 8 6 ... 9 0 9] [9 8 6 ... 9 0 4]\n",
      "Epoch 140 - Probability Accuracy: 0.7256341463414634\n"
     ]
    },
    {
     "name": "stderr",
     "output_type": "stream",
     "text": [
      "Training Progress:  15%|█▌        | 154/1000 [00:18<01:01, 13.78it/s]"
     ]
    },
    {
     "name": "stdout",
     "output_type": "stream",
     "text": [
      "[4 8 6 ... 9 0 9] [9 8 6 ... 9 0 4]\n",
      "Epoch 150 - Probability Accuracy: 0.734780487804878\n"
     ]
    },
    {
     "name": "stderr",
     "output_type": "stream",
     "text": [
      "Training Progress:  16%|█▌        | 162/1000 [00:19<01:11, 11.67it/s]"
     ]
    },
    {
     "name": "stdout",
     "output_type": "stream",
     "text": [
      "[4 8 6 ... 9 0 9] [9 8 6 ... 9 0 4]\n",
      "Epoch 160 - Probability Accuracy: 0.7429512195121951\n"
     ]
    },
    {
     "name": "stderr",
     "output_type": "stream",
     "text": [
      "Training Progress:  17%|█▋        | 172/1000 [00:20<01:09, 11.90it/s]"
     ]
    },
    {
     "name": "stdout",
     "output_type": "stream",
     "text": [
      "[4 8 6 ... 9 0 9] [9 8 6 ... 9 0 4]\n",
      "Epoch 170 - Probability Accuracy: 0.75\n"
     ]
    },
    {
     "name": "stderr",
     "output_type": "stream",
     "text": [
      "Training Progress:  18%|█▊        | 182/1000 [00:21<01:11, 11.37it/s]"
     ]
    },
    {
     "name": "stdout",
     "output_type": "stream",
     "text": [
      "[4 8 6 ... 9 0 9] [9 8 6 ... 9 0 4]\n",
      "Epoch 180 - Probability Accuracy: 0.7564390243902439\n"
     ]
    },
    {
     "name": "stderr",
     "output_type": "stream",
     "text": [
      "Training Progress:  19%|█▉        | 193/1000 [00:22<01:23,  9.69it/s]"
     ]
    },
    {
     "name": "stdout",
     "output_type": "stream",
     "text": [
      "[4 8 6 ... 9 0 9] [9 8 6 ... 9 0 4]\n",
      "Epoch 190 - Probability Accuracy: 0.7625609756097561\n"
     ]
    },
    {
     "name": "stderr",
     "output_type": "stream",
     "text": [
      "Training Progress:  20%|██        | 203/1000 [00:23<01:11, 11.15it/s]"
     ]
    },
    {
     "name": "stdout",
     "output_type": "stream",
     "text": [
      "[4 8 6 ... 9 0 9] [9 8 6 ... 9 0 4]\n",
      "Epoch 200 - Probability Accuracy: 0.7678048780487805\n"
     ]
    },
    {
     "name": "stderr",
     "output_type": "stream",
     "text": [
      "Training Progress:  21%|██        | 212/1000 [00:25<03:24,  3.86it/s]"
     ]
    },
    {
     "name": "stdout",
     "output_type": "stream",
     "text": [
      "[4 8 6 ... 9 0 9] [9 8 6 ... 9 0 4]\n",
      "Epoch 210 - Probability Accuracy: 0.7723414634146342\n"
     ]
    },
    {
     "name": "stderr",
     "output_type": "stream",
     "text": [
      "Training Progress:  22%|██▏       | 221/1000 [00:27<01:58,  6.60it/s]"
     ]
    },
    {
     "name": "stdout",
     "output_type": "stream",
     "text": [
      "[4 8 6 ... 9 0 9] [9 8 6 ... 9 0 4]\n",
      "Epoch 220 - Probability Accuracy: 0.777609756097561\n"
     ]
    },
    {
     "name": "stderr",
     "output_type": "stream",
     "text": [
      "Training Progress:  23%|██▎       | 233/1000 [00:28<01:08, 11.21it/s]"
     ]
    },
    {
     "name": "stdout",
     "output_type": "stream",
     "text": [
      "[4 8 6 ... 9 0 9] [9 8 6 ... 9 0 4]\n",
      "Epoch 230 - Probability Accuracy: 0.7819024390243903\n"
     ]
    },
    {
     "name": "stderr",
     "output_type": "stream",
     "text": [
      "Training Progress:  24%|██▍       | 243/1000 [00:29<00:53, 14.06it/s]"
     ]
    },
    {
     "name": "stdout",
     "output_type": "stream",
     "text": [
      "[4 8 6 ... 9 0 9] [9 8 6 ... 9 0 4]\n",
      "Epoch 240 - Probability Accuracy: 0.786\n"
     ]
    },
    {
     "name": "stderr",
     "output_type": "stream",
     "text": [
      "Training Progress:  25%|██▌       | 251/1000 [00:30<01:00, 12.34it/s]"
     ]
    },
    {
     "name": "stdout",
     "output_type": "stream",
     "text": [
      "[4 8 6 ... 9 0 9] [9 8 6 ... 9 0 4]\n",
      "Epoch 250 - Probability Accuracy: 0.7901463414634147\n"
     ]
    },
    {
     "name": "stderr",
     "output_type": "stream",
     "text": [
      "Training Progress:  26%|██▋       | 263/1000 [00:31<01:03, 11.55it/s]"
     ]
    },
    {
     "name": "stdout",
     "output_type": "stream",
     "text": [
      "[4 8 6 ... 9 0 9] [9 8 6 ... 9 0 4]\n",
      "Epoch 260 - Probability Accuracy: 0.7939268292682927\n"
     ]
    },
    {
     "name": "stderr",
     "output_type": "stream",
     "text": [
      "Training Progress:  27%|██▋       | 273/1000 [00:31<00:51, 14.04it/s]"
     ]
    },
    {
     "name": "stdout",
     "output_type": "stream",
     "text": [
      "[4 8 6 ... 9 0 9] [9 8 6 ... 9 0 4]\n",
      "Epoch 270 - Probability Accuracy: 0.7979268292682927\n"
     ]
    },
    {
     "name": "stderr",
     "output_type": "stream",
     "text": [
      "Training Progress:  28%|██▊       | 283/1000 [00:32<00:48, 14.92it/s]"
     ]
    },
    {
     "name": "stdout",
     "output_type": "stream",
     "text": [
      "[4 8 6 ... 9 0 9] [9 8 6 ... 9 0 4]\n",
      "Epoch 280 - Probability Accuracy: 0.8016341463414635\n"
     ]
    },
    {
     "name": "stderr",
     "output_type": "stream",
     "text": [
      "Training Progress:  29%|██▉       | 293/1000 [00:33<00:54, 12.94it/s]"
     ]
    },
    {
     "name": "stdout",
     "output_type": "stream",
     "text": [
      "[4 8 6 ... 9 0 9] [9 8 6 ... 9 0 4]\n",
      "Epoch 290 - Probability Accuracy: 0.8046829268292683\n"
     ]
    },
    {
     "name": "stderr",
     "output_type": "stream",
     "text": [
      "Training Progress:  30%|███       | 303/1000 [00:34<00:59, 11.80it/s]"
     ]
    },
    {
     "name": "stdout",
     "output_type": "stream",
     "text": [
      "[4 8 6 ... 9 0 9] [9 8 6 ... 9 0 4]\n",
      "Epoch 300 - Probability Accuracy: 0.8081463414634147\n"
     ]
    },
    {
     "name": "stderr",
     "output_type": "stream",
     "text": [
      "Training Progress:  31%|███▏      | 313/1000 [00:35<00:49, 13.77it/s]"
     ]
    },
    {
     "name": "stdout",
     "output_type": "stream",
     "text": [
      "[4 8 6 ... 9 0 9] [9 8 6 ... 9 0 4]\n",
      "Epoch 310 - Probability Accuracy: 0.8113902439024391\n"
     ]
    },
    {
     "name": "stderr",
     "output_type": "stream",
     "text": [
      "Training Progress:  32%|███▏      | 323/1000 [00:35<00:49, 13.56it/s]"
     ]
    },
    {
     "name": "stdout",
     "output_type": "stream",
     "text": [
      "[4 8 6 ... 9 0 9] [9 8 6 ... 9 0 4]\n",
      "Epoch 320 - Probability Accuracy: 0.8143170731707317\n"
     ]
    },
    {
     "name": "stderr",
     "output_type": "stream",
     "text": [
      "Training Progress:  33%|███▎      | 333/1000 [00:36<00:51, 12.95it/s]"
     ]
    },
    {
     "name": "stdout",
     "output_type": "stream",
     "text": [
      "[4 8 6 ... 9 0 9] [9 8 6 ... 9 0 4]\n",
      "Epoch 330 - Probability Accuracy: 0.8172195121951219\n"
     ]
    },
    {
     "name": "stderr",
     "output_type": "stream",
     "text": [
      "Training Progress:  34%|███▍      | 343/1000 [00:37<01:00, 10.81it/s]"
     ]
    },
    {
     "name": "stdout",
     "output_type": "stream",
     "text": [
      "[4 8 6 ... 9 0 9] [9 8 6 ... 9 0 4]\n",
      "Epoch 340 - Probability Accuracy: 0.8196585365853658\n"
     ]
    },
    {
     "name": "stderr",
     "output_type": "stream",
     "text": [
      "Training Progress:  35%|███▌      | 353/1000 [00:38<01:04, 10.03it/s]"
     ]
    },
    {
     "name": "stdout",
     "output_type": "stream",
     "text": [
      "[4 8 6 ... 9 0 9] [9 8 6 ... 9 0 4]\n",
      "Epoch 350 - Probability Accuracy: 0.8219268292682926\n"
     ]
    },
    {
     "name": "stderr",
     "output_type": "stream",
     "text": [
      "Training Progress:  36%|███▋      | 363/1000 [00:39<00:50, 12.71it/s]"
     ]
    },
    {
     "name": "stdout",
     "output_type": "stream",
     "text": [
      "[4 8 6 ... 9 0 9] [9 8 6 ... 9 0 4]\n",
      "Epoch 360 - Probability Accuracy: 0.8242926829268292\n"
     ]
    },
    {
     "name": "stderr",
     "output_type": "stream",
     "text": [
      "Training Progress:  37%|███▋      | 373/1000 [00:40<00:41, 15.03it/s]"
     ]
    },
    {
     "name": "stdout",
     "output_type": "stream",
     "text": [
      "[4 8 6 ... 9 0 9] [9 8 6 ... 9 0 4]\n",
      "Epoch 370 - Probability Accuracy: 0.8263170731707317\n"
     ]
    },
    {
     "name": "stderr",
     "output_type": "stream",
     "text": [
      "Training Progress:  38%|███▊      | 383/1000 [00:40<00:43, 14.11it/s]"
     ]
    },
    {
     "name": "stdout",
     "output_type": "stream",
     "text": [
      "[4 8 6 ... 9 0 9] [9 8 6 ... 9 0 4]\n",
      "Epoch 380 - Probability Accuracy: 0.8281463414634146\n"
     ]
    },
    {
     "name": "stderr",
     "output_type": "stream",
     "text": [
      "Training Progress:  39%|███▉      | 393/1000 [00:41<00:41, 14.57it/s]"
     ]
    },
    {
     "name": "stdout",
     "output_type": "stream",
     "text": [
      "[4 8 6 ... 9 0 9] [9 8 6 ... 9 0 4]\n",
      "Epoch 390 - Probability Accuracy: 0.8300975609756097\n"
     ]
    },
    {
     "name": "stderr",
     "output_type": "stream",
     "text": [
      "Training Progress:  40%|████      | 403/1000 [00:43<01:05,  9.11it/s]"
     ]
    },
    {
     "name": "stdout",
     "output_type": "stream",
     "text": [
      "[4 8 6 ... 9 0 9] [9 8 6 ... 9 0 4]\n",
      "Epoch 400 - Probability Accuracy: 0.8320731707317073\n"
     ]
    },
    {
     "name": "stderr",
     "output_type": "stream",
     "text": [
      "Training Progress:  41%|████▏     | 413/1000 [00:43<00:46, 12.63it/s]"
     ]
    },
    {
     "name": "stdout",
     "output_type": "stream",
     "text": [
      "[4 8 6 ... 9 0 9] [9 8 6 ... 9 0 4]\n",
      "Epoch 410 - Probability Accuracy: 0.8337560975609756\n"
     ]
    },
    {
     "name": "stderr",
     "output_type": "stream",
     "text": [
      "Training Progress:  42%|████▏     | 421/1000 [00:44<01:06,  8.71it/s]"
     ]
    },
    {
     "name": "stdout",
     "output_type": "stream",
     "text": [
      "[4 8 6 ... 9 0 9] [9 8 6 ... 9 0 4]\n",
      "Epoch 420 - Probability Accuracy: 0.835170731707317\n"
     ]
    },
    {
     "name": "stderr",
     "output_type": "stream",
     "text": [
      "Training Progress:  43%|████▎     | 432/1000 [00:45<00:52, 10.85it/s]"
     ]
    },
    {
     "name": "stdout",
     "output_type": "stream",
     "text": [
      "[4 8 6 ... 9 0 9] [9 8 6 ... 9 0 4]\n",
      "Epoch 430 - Probability Accuracy: 0.8371951219512195\n"
     ]
    },
    {
     "name": "stderr",
     "output_type": "stream",
     "text": [
      "Training Progress:  44%|████▍     | 442/1000 [00:47<01:08,  8.14it/s]"
     ]
    },
    {
     "name": "stdout",
     "output_type": "stream",
     "text": [
      "[4 8 6 ... 9 0 9] [9 8 6 ... 9 0 4]\n",
      "Epoch 440 - Probability Accuracy: 0.8392926829268292\n"
     ]
    },
    {
     "name": "stderr",
     "output_type": "stream",
     "text": [
      "Training Progress:  45%|████▌     | 452/1000 [00:48<00:54, 10.10it/s]"
     ]
    },
    {
     "name": "stdout",
     "output_type": "stream",
     "text": [
      "[4 8 6 ... 9 0 9] [9 8 6 ... 9 0 4]\n",
      "Epoch 450 - Probability Accuracy: 0.8408536585365853\n"
     ]
    },
    {
     "name": "stderr",
     "output_type": "stream",
     "text": [
      "Training Progress:  46%|████▋     | 464/1000 [00:49<00:35, 15.01it/s]"
     ]
    },
    {
     "name": "stdout",
     "output_type": "stream",
     "text": [
      "[4 8 6 ... 9 0 9] [9 8 6 ... 9 0 4]\n",
      "Epoch 460 - Probability Accuracy: 0.8425121951219512\n"
     ]
    },
    {
     "name": "stderr",
     "output_type": "stream",
     "text": [
      "Training Progress:  47%|████▋     | 472/1000 [00:49<00:37, 14.25it/s]"
     ]
    },
    {
     "name": "stdout",
     "output_type": "stream",
     "text": [
      "[4 8 6 ... 9 0 9] [9 8 6 ... 9 0 4]\n",
      "Epoch 470 - Probability Accuracy: 0.8440731707317073\n"
     ]
    },
    {
     "name": "stderr",
     "output_type": "stream",
     "text": [
      "Training Progress:  48%|████▊     | 482/1000 [00:50<00:35, 14.39it/s]"
     ]
    },
    {
     "name": "stdout",
     "output_type": "stream",
     "text": [
      "[4 8 6 ... 9 0 9] [9 8 6 ... 9 0 4]\n",
      "Epoch 480 - Probability Accuracy: 0.8454146341463414\n"
     ]
    },
    {
     "name": "stderr",
     "output_type": "stream",
     "text": [
      "Training Progress:  49%|████▉     | 494/1000 [00:51<00:35, 14.30it/s]"
     ]
    },
    {
     "name": "stdout",
     "output_type": "stream",
     "text": [
      "[4 8 6 ... 9 0 9] [9 8 6 ... 9 0 4]\n",
      "Epoch 490 - Probability Accuracy: 0.8468536585365853\n"
     ]
    },
    {
     "name": "stderr",
     "output_type": "stream",
     "text": [
      "Training Progress:  50%|█████     | 502/1000 [00:52<00:41, 12.03it/s]"
     ]
    },
    {
     "name": "stdout",
     "output_type": "stream",
     "text": [
      "[4 8 6 ... 9 0 9] [9 8 6 ... 9 0 4]\n",
      "Epoch 500 - Probability Accuracy: 0.8482195121951219\n"
     ]
    },
    {
     "name": "stderr",
     "output_type": "stream",
     "text": [
      "Training Progress:  51%|█████     | 512/1000 [00:53<00:38, 12.60it/s]"
     ]
    },
    {
     "name": "stdout",
     "output_type": "stream",
     "text": [
      "[4 8 6 ... 9 0 9] [9 8 6 ... 9 0 4]\n",
      "Epoch 510 - Probability Accuracy: 0.8497073170731707\n"
     ]
    },
    {
     "name": "stderr",
     "output_type": "stream",
     "text": [
      "Training Progress:  52%|█████▏    | 524/1000 [00:53<00:32, 14.62it/s]"
     ]
    },
    {
     "name": "stdout",
     "output_type": "stream",
     "text": [
      "[4 8 6 ... 9 0 9] [9 8 6 ... 9 0 4]\n",
      "Epoch 520 - Probability Accuracy: 0.8509268292682927\n"
     ]
    },
    {
     "name": "stderr",
     "output_type": "stream",
     "text": [
      "Training Progress:  53%|█████▎    | 534/1000 [00:54<00:37, 12.45it/s]"
     ]
    },
    {
     "name": "stdout",
     "output_type": "stream",
     "text": [
      "[4 8 6 ... 9 0 9] [9 8 6 ... 9 0 4]\n",
      "Epoch 530 - Probability Accuracy: 0.852170731707317\n"
     ]
    },
    {
     "name": "stderr",
     "output_type": "stream",
     "text": [
      "Training Progress:  54%|█████▍    | 544/1000 [00:55<00:35, 12.86it/s]"
     ]
    },
    {
     "name": "stdout",
     "output_type": "stream",
     "text": [
      "[4 8 6 ... 9 0 9] [9 8 6 ... 9 0 4]\n",
      "Epoch 540 - Probability Accuracy: 0.8535853658536585\n"
     ]
    },
    {
     "name": "stderr",
     "output_type": "stream",
     "text": [
      "Training Progress:  55%|█████▌    | 552/1000 [00:56<00:32, 13.76it/s]"
     ]
    },
    {
     "name": "stdout",
     "output_type": "stream",
     "text": [
      "[4 8 6 ... 9 0 9] [9 8 6 ... 9 0 4]\n",
      "Epoch 550 - Probability Accuracy: 0.8547560975609756\n"
     ]
    },
    {
     "name": "stderr",
     "output_type": "stream",
     "text": [
      "Training Progress:  56%|█████▌    | 562/1000 [00:57<00:37, 11.55it/s]"
     ]
    },
    {
     "name": "stdout",
     "output_type": "stream",
     "text": [
      "[4 8 6 ... 9 0 9] [9 8 6 ... 9 0 4]\n",
      "Epoch 560 - Probability Accuracy: 0.8557560975609756\n"
     ]
    },
    {
     "name": "stderr",
     "output_type": "stream",
     "text": [
      "Training Progress:  57%|█████▋    | 574/1000 [00:58<00:29, 14.21it/s]"
     ]
    },
    {
     "name": "stdout",
     "output_type": "stream",
     "text": [
      "[4 8 6 ... 9 0 9] [9 8 6 ... 9 0 4]\n",
      "Epoch 570 - Probability Accuracy: 0.8568048780487805\n"
     ]
    },
    {
     "name": "stderr",
     "output_type": "stream",
     "text": [
      "Training Progress:  58%|█████▊    | 582/1000 [00:58<00:28, 14.67it/s]"
     ]
    },
    {
     "name": "stdout",
     "output_type": "stream",
     "text": [
      "[4 8 6 ... 9 0 9] [9 8 6 ... 9 0 4]\n",
      "Epoch 580 - Probability Accuracy: 0.8579268292682927\n"
     ]
    },
    {
     "name": "stderr",
     "output_type": "stream",
     "text": [
      "Training Progress:  59%|█████▉    | 592/1000 [00:59<00:44,  9.23it/s]"
     ]
    },
    {
     "name": "stdout",
     "output_type": "stream",
     "text": [
      "[4 8 6 ... 9 0 9] [9 8 6 ... 9 0 4]\n",
      "Epoch 590 - Probability Accuracy: 0.8589756097560975\n"
     ]
    },
    {
     "name": "stderr",
     "output_type": "stream",
     "text": [
      "Training Progress:  60%|██████    | 602/1000 [01:01<00:47,  8.34it/s]"
     ]
    },
    {
     "name": "stdout",
     "output_type": "stream",
     "text": [
      "[4 8 6 ... 9 0 9] [9 8 6 ... 9 0 4]\n",
      "Epoch 600 - Probability Accuracy: 0.8601707317073171\n"
     ]
    },
    {
     "name": "stderr",
     "output_type": "stream",
     "text": [
      "Training Progress:  61%|██████    | 611/1000 [01:01<00:35, 10.86it/s]"
     ]
    },
    {
     "name": "stdout",
     "output_type": "stream",
     "text": [
      "[4 8 6 ... 9 0 9] [9 8 6 ... 9 0 4]\n",
      "Epoch 610 - Probability Accuracy: 0.8611463414634146\n"
     ]
    },
    {
     "name": "stderr",
     "output_type": "stream",
     "text": [
      "Training Progress:  62%|██████▏   | 622/1000 [01:02<00:35, 10.62it/s]"
     ]
    },
    {
     "name": "stdout",
     "output_type": "stream",
     "text": [
      "[4 8 6 ... 9 0 9] [9 8 6 ... 9 0 4]\n",
      "Epoch 620 - Probability Accuracy: 0.8622195121951219\n"
     ]
    },
    {
     "name": "stderr",
     "output_type": "stream",
     "text": [
      "Training Progress:  63%|██████▎   | 632/1000 [01:03<00:35, 10.38it/s]"
     ]
    },
    {
     "name": "stdout",
     "output_type": "stream",
     "text": [
      "[4 8 6 ... 9 0 9] [9 8 6 ... 9 0 4]\n",
      "Epoch 630 - Probability Accuracy: 0.8630731707317073\n"
     ]
    },
    {
     "name": "stderr",
     "output_type": "stream",
     "text": [
      "Training Progress:  64%|██████▍   | 642/1000 [01:04<00:31, 11.54it/s]"
     ]
    },
    {
     "name": "stdout",
     "output_type": "stream",
     "text": [
      "[4 8 6 ... 9 0 9] [9 8 6 ... 9 0 4]\n",
      "Epoch 640 - Probability Accuracy: 0.864\n"
     ]
    },
    {
     "name": "stderr",
     "output_type": "stream",
     "text": [
      "Training Progress:  65%|██████▌   | 652/1000 [01:05<00:27, 12.44it/s]"
     ]
    },
    {
     "name": "stdout",
     "output_type": "stream",
     "text": [
      "[4 8 6 ... 9 0 9] [9 8 6 ... 9 0 4]\n",
      "Epoch 650 - Probability Accuracy: 0.8648536585365854\n"
     ]
    },
    {
     "name": "stderr",
     "output_type": "stream",
     "text": [
      "Training Progress:  66%|██████▌   | 662/1000 [01:06<00:25, 13.10it/s]"
     ]
    },
    {
     "name": "stdout",
     "output_type": "stream",
     "text": [
      "[4 8 6 ... 9 0 9] [9 8 6 ... 9 0 4]\n",
      "Epoch 660 - Probability Accuracy: 0.8658292682926829\n"
     ]
    },
    {
     "name": "stderr",
     "output_type": "stream",
     "text": [
      "Training Progress:  67%|██████▋   | 672/1000 [01:07<00:31, 10.32it/s]"
     ]
    },
    {
     "name": "stdout",
     "output_type": "stream",
     "text": [
      "[4 8 6 ... 9 0 9] [9 8 6 ... 9 0 4]\n",
      "Epoch 670 - Probability Accuracy: 0.8669024390243902\n"
     ]
    },
    {
     "name": "stderr",
     "output_type": "stream",
     "text": [
      "Training Progress:  68%|██████▊   | 682/1000 [01:08<00:28, 11.00it/s]"
     ]
    },
    {
     "name": "stdout",
     "output_type": "stream",
     "text": [
      "[4 8 6 ... 9 0 9] [9 8 6 ... 9 0 4]\n",
      "Epoch 680 - Probability Accuracy: 0.8680975609756097\n"
     ]
    },
    {
     "name": "stderr",
     "output_type": "stream",
     "text": [
      "Training Progress:  69%|██████▉   | 694/1000 [01:09<00:21, 14.21it/s]"
     ]
    },
    {
     "name": "stdout",
     "output_type": "stream",
     "text": [
      "[4 8 6 ... 9 0 9] [9 8 6 ... 9 0 4]\n",
      "Epoch 690 - Probability Accuracy: 0.8689024390243902\n"
     ]
    },
    {
     "name": "stderr",
     "output_type": "stream",
     "text": [
      "Training Progress:  70%|███████   | 704/1000 [01:10<00:20, 14.23it/s]"
     ]
    },
    {
     "name": "stdout",
     "output_type": "stream",
     "text": [
      "[4 8 6 ... 9 0 9] [9 8 6 ... 9 0 4]\n",
      "Epoch 700 - Probability Accuracy: 0.8697560975609756\n"
     ]
    },
    {
     "name": "stderr",
     "output_type": "stream",
     "text": [
      "Training Progress:  71%|███████   | 712/1000 [01:10<00:21, 13.63it/s]"
     ]
    },
    {
     "name": "stdout",
     "output_type": "stream",
     "text": [
      "[4 8 6 ... 9 0 9] [9 8 6 ... 9 0 4]\n",
      "Epoch 710 - Probability Accuracy: 0.8705609756097561\n"
     ]
    },
    {
     "name": "stderr",
     "output_type": "stream",
     "text": [
      "Training Progress:  72%|███████▏  | 722/1000 [01:11<00:31,  8.89it/s]"
     ]
    },
    {
     "name": "stdout",
     "output_type": "stream",
     "text": [
      "[4 8 6 ... 9 0 9] [9 8 6 ... 9 0 4]\n",
      "Epoch 720 - Probability Accuracy: 0.8711219512195122\n"
     ]
    },
    {
     "name": "stderr",
     "output_type": "stream",
     "text": [
      "Training Progress:  73%|███████▎  | 734/1000 [01:12<00:20, 12.84it/s]"
     ]
    },
    {
     "name": "stdout",
     "output_type": "stream",
     "text": [
      "[4 8 6 ... 9 0 9] [9 8 6 ... 9 0 4]\n",
      "Epoch 730 - Probability Accuracy: 0.8717317073170732\n"
     ]
    },
    {
     "name": "stderr",
     "output_type": "stream",
     "text": [
      "Training Progress:  74%|███████▍  | 744/1000 [01:13<00:17, 14.37it/s]"
     ]
    },
    {
     "name": "stdout",
     "output_type": "stream",
     "text": [
      "[4 8 6 ... 9 0 9] [9 8 6 ... 9 0 4]\n",
      "Epoch 740 - Probability Accuracy: 0.8726341463414634\n"
     ]
    },
    {
     "name": "stderr",
     "output_type": "stream",
     "text": [
      "Training Progress:  75%|███████▌  | 754/1000 [01:14<00:16, 15.08it/s]"
     ]
    },
    {
     "name": "stdout",
     "output_type": "stream",
     "text": [
      "[4 8 6 ... 9 0 9] [9 8 6 ... 9 0 4]\n",
      "Epoch 750 - Probability Accuracy: 0.873609756097561\n"
     ]
    },
    {
     "name": "stderr",
     "output_type": "stream",
     "text": [
      "Training Progress:  76%|███████▋  | 764/1000 [01:14<00:15, 14.75it/s]"
     ]
    },
    {
     "name": "stdout",
     "output_type": "stream",
     "text": [
      "[4 8 6 ... 9 0 9] [9 8 6 ... 9 0 4]\n",
      "Epoch 760 - Probability Accuracy: 0.874390243902439\n"
     ]
    },
    {
     "name": "stderr",
     "output_type": "stream",
     "text": [
      "Training Progress:  77%|███████▋  | 772/1000 [01:15<00:17, 13.32it/s]"
     ]
    },
    {
     "name": "stdout",
     "output_type": "stream",
     "text": [
      "[4 8 6 ... 9 0 9] [9 8 6 ... 9 0 4]\n",
      "Epoch 770 - Probability Accuracy: 0.8752439024390244\n"
     ]
    },
    {
     "name": "stderr",
     "output_type": "stream",
     "text": [
      "Training Progress:  78%|███████▊  | 782/1000 [01:16<00:14, 14.56it/s]"
     ]
    },
    {
     "name": "stdout",
     "output_type": "stream",
     "text": [
      "[4 8 6 ... 9 0 9] [9 8 6 ... 9 0 4]\n",
      "Epoch 780 - Probability Accuracy: 0.8760487804878049\n"
     ]
    },
    {
     "name": "stderr",
     "output_type": "stream",
     "text": [
      "Training Progress:  79%|███████▉  | 792/1000 [01:16<00:14, 14.10it/s]"
     ]
    },
    {
     "name": "stdout",
     "output_type": "stream",
     "text": [
      "[4 8 6 ... 9 0 9] [9 8 6 ... 9 0 4]\n",
      "Epoch 790 - Probability Accuracy: 0.8767560975609756\n"
     ]
    },
    {
     "name": "stderr",
     "output_type": "stream",
     "text": [
      "Training Progress:  80%|████████  | 802/1000 [01:17<00:14, 13.31it/s]"
     ]
    },
    {
     "name": "stdout",
     "output_type": "stream",
     "text": [
      "[9 8 6 ... 9 0 9] [9 8 6 ... 9 0 4]\n",
      "Epoch 800 - Probability Accuracy: 0.8772682926829268\n"
     ]
    },
    {
     "name": "stderr",
     "output_type": "stream",
     "text": [
      "Training Progress:  81%|████████▏ | 814/1000 [01:18<00:12, 15.28it/s]"
     ]
    },
    {
     "name": "stdout",
     "output_type": "stream",
     "text": [
      "[9 8 6 ... 9 0 9] [9 8 6 ... 9 0 4]\n",
      "Epoch 810 - Probability Accuracy: 0.8777560975609756\n"
     ]
    },
    {
     "name": "stderr",
     "output_type": "stream",
     "text": [
      "Training Progress:  82%|████████▏ | 824/1000 [01:19<00:11, 14.83it/s]"
     ]
    },
    {
     "name": "stdout",
     "output_type": "stream",
     "text": [
      "[9 8 6 ... 9 0 9] [9 8 6 ... 9 0 4]\n",
      "Epoch 820 - Probability Accuracy: 0.878219512195122\n"
     ]
    },
    {
     "name": "stderr",
     "output_type": "stream",
     "text": [
      "Training Progress:  83%|████████▎ | 832/1000 [01:20<00:14, 11.65it/s]"
     ]
    },
    {
     "name": "stdout",
     "output_type": "stream",
     "text": [
      "[9 8 6 ... 9 0 9] [9 8 6 ... 9 0 4]\n",
      "Epoch 830 - Probability Accuracy: 0.8789024390243902\n"
     ]
    },
    {
     "name": "stderr",
     "output_type": "stream",
     "text": [
      "Training Progress:  84%|████████▍ | 843/1000 [01:21<00:14, 10.98it/s]"
     ]
    },
    {
     "name": "stdout",
     "output_type": "stream",
     "text": [
      "[9 8 6 ... 9 0 9] [9 8 6 ... 9 0 4]\n",
      "Epoch 840 - Probability Accuracy: 0.879609756097561\n"
     ]
    },
    {
     "name": "stderr",
     "output_type": "stream",
     "text": [
      "Training Progress:  85%|████████▌ | 853/1000 [01:22<00:11, 12.73it/s]"
     ]
    },
    {
     "name": "stdout",
     "output_type": "stream",
     "text": [
      "[9 8 6 ... 9 0 9] [9 8 6 ... 9 0 4]\n",
      "Epoch 850 - Probability Accuracy: 0.8800975609756098\n"
     ]
    },
    {
     "name": "stderr",
     "output_type": "stream",
     "text": [
      "Training Progress:  86%|████████▋ | 863/1000 [01:23<00:10, 12.81it/s]"
     ]
    },
    {
     "name": "stdout",
     "output_type": "stream",
     "text": [
      "[9 8 6 ... 9 0 9] [9 8 6 ... 9 0 4]\n",
      "Epoch 860 - Probability Accuracy: 0.8806585365853659\n"
     ]
    },
    {
     "name": "stderr",
     "output_type": "stream",
     "text": [
      "Training Progress:  87%|████████▋ | 873/1000 [01:24<00:10, 12.54it/s]"
     ]
    },
    {
     "name": "stdout",
     "output_type": "stream",
     "text": [
      "[9 8 6 ... 9 0 9] [9 8 6 ... 9 0 4]\n",
      "Epoch 870 - Probability Accuracy: 0.8813414634146342\n"
     ]
    },
    {
     "name": "stderr",
     "output_type": "stream",
     "text": [
      "Training Progress:  88%|████████▊ | 881/1000 [01:24<00:08, 13.44it/s]"
     ]
    },
    {
     "name": "stdout",
     "output_type": "stream",
     "text": [
      "[9 8 6 ... 9 0 9] [9 8 6 ... 9 0 4]\n",
      "Epoch 880 - Probability Accuracy: 0.8816585365853659\n"
     ]
    },
    {
     "name": "stderr",
     "output_type": "stream",
     "text": [
      "Training Progress:  89%|████████▉ | 893/1000 [01:25<00:07, 13.97it/s]"
     ]
    },
    {
     "name": "stdout",
     "output_type": "stream",
     "text": [
      "[9 8 6 ... 9 0 9] [9 8 6 ... 9 0 4]\n",
      "Epoch 890 - Probability Accuracy: 0.8820975609756098\n"
     ]
    },
    {
     "name": "stderr",
     "output_type": "stream",
     "text": [
      "Training Progress:  90%|█████████ | 901/1000 [01:26<00:07, 13.67it/s]"
     ]
    },
    {
     "name": "stdout",
     "output_type": "stream",
     "text": [
      "[9 8 6 ... 9 0 9] [9 8 6 ... 9 0 4]\n",
      "Epoch 900 - Probability Accuracy: 0.8825609756097561\n"
     ]
    },
    {
     "name": "stderr",
     "output_type": "stream",
     "text": [
      "Training Progress:  91%|█████████▏| 913/1000 [01:27<00:06, 13.12it/s]"
     ]
    },
    {
     "name": "stdout",
     "output_type": "stream",
     "text": [
      "[9 8 6 ... 9 0 9] [9 8 6 ... 9 0 4]\n",
      "Epoch 910 - Probability Accuracy: 0.8829268292682927\n"
     ]
    },
    {
     "name": "stderr",
     "output_type": "stream",
     "text": [
      "Training Progress:  92%|█████████▏| 921/1000 [01:29<00:17,  4.41it/s]"
     ]
    },
    {
     "name": "stdout",
     "output_type": "stream",
     "text": [
      "[9 8 6 ... 9 0 9] [9 8 6 ... 9 0 4]\n",
      "Epoch 920 - Probability Accuracy: 0.8833170731707317\n"
     ]
    },
    {
     "name": "stderr",
     "output_type": "stream",
     "text": [
      "Training Progress:  93%|█████████▎| 933/1000 [01:30<00:07,  9.48it/s]"
     ]
    },
    {
     "name": "stdout",
     "output_type": "stream",
     "text": [
      "[9 8 6 ... 9 0 9] [9 8 6 ... 9 0 4]\n",
      "Epoch 930 - Probability Accuracy: 0.8839756097560976\n"
     ]
    },
    {
     "name": "stderr",
     "output_type": "stream",
     "text": [
      "Training Progress:  94%|█████████▍| 943/1000 [01:31<00:04, 11.87it/s]"
     ]
    },
    {
     "name": "stdout",
     "output_type": "stream",
     "text": [
      "[9 8 6 ... 9 0 9] [9 8 6 ... 9 0 4]\n",
      "Epoch 940 - Probability Accuracy: 0.8844390243902439\n"
     ]
    },
    {
     "name": "stderr",
     "output_type": "stream",
     "text": [
      "Training Progress:  95%|█████████▌| 953/1000 [01:32<00:03, 12.92it/s]"
     ]
    },
    {
     "name": "stdout",
     "output_type": "stream",
     "text": [
      "[9 8 6 ... 9 0 9] [9 8 6 ... 9 0 4]\n",
      "Epoch 950 - Probability Accuracy: 0.8847560975609756\n"
     ]
    },
    {
     "name": "stderr",
     "output_type": "stream",
     "text": [
      "Training Progress:  96%|█████████▌| 961/1000 [01:33<00:03, 11.28it/s]"
     ]
    },
    {
     "name": "stdout",
     "output_type": "stream",
     "text": [
      "[9 8 6 ... 9 0 9] [9 8 6 ... 9 0 4]\n",
      "Epoch 960 - Probability Accuracy: 0.8850731707317073\n"
     ]
    },
    {
     "name": "stderr",
     "output_type": "stream",
     "text": [
      "Training Progress:  97%|█████████▋| 973/1000 [01:34<00:02, 10.48it/s]"
     ]
    },
    {
     "name": "stdout",
     "output_type": "stream",
     "text": [
      "[9 8 6 ... 9 0 9] [9 8 6 ... 9 0 4]\n",
      "Epoch 970 - Probability Accuracy: 0.8852926829268293\n"
     ]
    },
    {
     "name": "stderr",
     "output_type": "stream",
     "text": [
      "Training Progress:  98%|█████████▊| 983/1000 [01:35<00:01, 13.23it/s]"
     ]
    },
    {
     "name": "stdout",
     "output_type": "stream",
     "text": [
      "[9 8 6 ... 9 0 9] [9 8 6 ... 9 0 4]\n",
      "Epoch 980 - Probability Accuracy: 0.8856585365853659\n"
     ]
    },
    {
     "name": "stderr",
     "output_type": "stream",
     "text": [
      "Training Progress:  99%|█████████▉| 993/1000 [01:35<00:00, 14.42it/s]"
     ]
    },
    {
     "name": "stdout",
     "output_type": "stream",
     "text": [
      "[9 8 6 ... 9 0 9] [9 8 6 ... 9 0 4]\n",
      "Epoch 990 - Probability Accuracy: 0.8860243902439024\n"
     ]
    },
    {
     "name": "stderr",
     "output_type": "stream",
     "text": [
      "Training Progress: 100%|██████████| 1000/1000 [01:36<00:00, 10.38it/s]\n"
     ]
    }
   ],
   "source": [
    "weight1, bias1, weight2, bias2 = gradientDescent(trainImages, trainLabels, 1000, 0.1)#iterates 1000 times which reuslts in an improved accuacy of around 88% (before it was 9% then 11%...)\n"
   ]
  },
  {
   "cell_type": "markdown",
   "id": "69fce87c",
   "metadata": {},
   "source": [
    "### Predicitons\n",
    "- predict what the numer it thinks it 'looks like' based on the previous training\n",
    "- test that predition with the actual labelled image label"
   ]
  },
  {
   "cell_type": "code",
   "execution_count": 55,
   "id": "e7e5ea66",
   "metadata": {},
   "outputs": [],
   "source": [
    "def guessPrediction(X, weight1, bias1, weight2, bias2):\n",
    "    _,_,_,A2 = forwardPropagation(weight1, bias1, weight2, bias2, X)\n",
    "    return fetchPredictions(A2)\n",
    "\n",
    "def guessPredictionTest(i, weight1, bias1, weight2, bias2):\n",
    "    currentDigitImage = trainImages[:, i, None]\n",
    "    digitImageLabel = trainLabels[i]\n",
    "    predictionGuess = guessPrediction(trainImages[:, i, None], weight1, bias1, weight2, bias2)\n",
    "    print(f\"Neural Network's Prediction: {predictionGuess}\")\n",
    "    print(f\"Actual Train Digit Image Label: {digitImageLabel}\")\n",
    "    if (predictionGuess == digitImageLabel):\n",
    "        print(f\"Correctly Predicted Numerical Digit {digitImageLabel}\")\n",
    "        currentDigitImage = currentDigitImage.reshape((28,28))*255#28*28 pxiel image with 0 to 255 black and white pixel\n",
    "        plt.gray()\n",
    "        #plt.figure(figsize=(4,4))\n",
    "        plt.imshow(currentDigitImage, interpolation='nearest')\n",
    "        plt.axis('off')\n",
    "        plt.tight_layout()\n",
    "        plt.show()\n",
    "    else:\n",
    "        print(f\"Did Not Correctly Predict Numerical Digit {digitImageLabel}!\")"
   ]
  },
  {
   "cell_type": "code",
   "execution_count": 56,
   "id": "f7ac663b",
   "metadata": {},
   "outputs": [
    {
     "name": "stdout",
     "output_type": "stream",
     "text": [
      "Neural Network's Prediction: [9]\n",
      "Actual Train Digit Image Label: 9\n",
      "Correctly Predicted Numerical Digit 9\n"
     ]
    },
    {
     "data": {
      "image/png": "[encoded data removed]",
      "text/plain": [
       "<Figure size 640x480 with 1 Axes>"
      ]
     },
     "metadata": {},
     "output_type": "display_data"
    },
    {
     "name": "stdout",
     "output_type": "stream",
     "text": [
      "Neural Network's Prediction: [8]\n",
      "Actual Train Digit Image Label: 8\n",
      "Correctly Predicted Numerical Digit 8\n"
     ]
    },
    {
     "data": {
      "image/png": "[encoded data removed]",
      "text/plain": [
       "<Figure size 640x480 with 1 Axes>"
      ]
     },
     "metadata": {},
     "output_type": "display_data"
    },
    {
     "name": "stdout",
     "output_type": "stream",
     "text": [
      "Neural Network's Prediction: [6]\n",
      "Actual Train Digit Image Label: 6\n",
      "Correctly Predicted Numerical Digit 6\n"
     ]
    },
    {
     "data": {
      "image/png": "[encoded data removed]",
      "text/plain": [
       "<Figure size 640x480 with 1 Axes>"
      ]
     },
     "metadata": {},
     "output_type": "display_data"
    },
    {
     "name": "stdout",
     "output_type": "stream",
     "text": [
      "Neural Network's Prediction: [2]\n",
      "Actual Train Digit Image Label: 2\n",
      "Correctly Predicted Numerical Digit 2\n"
     ]
    },
    {
     "data": {
      "image/png": "[encoded data removed]",
      "text/plain": [
       "<Figure size 640x480 with 1 Axes>"
      ]
     },
     "metadata": {},
     "output_type": "display_data"
    },
    {
     "name": "stdout",
     "output_type": "stream",
     "text": [
      "Neural Network's Prediction: [7]\n",
      "Actual Train Digit Image Label: 7\n",
      "Correctly Predicted Numerical Digit 7\n"
     ]
    },
    {
     "data": {
      "image/png": "[encoded data removed]",
      "text/plain": [
       "<Figure size 640x480 with 1 Axes>"
      ]
     },
     "metadata": {},
     "output_type": "display_data"
    },
    {
     "name": "stdout",
     "output_type": "stream",
     "text": [
      "Neural Network's Prediction: [9]\n",
      "Actual Train Digit Image Label: 9\n",
      "Correctly Predicted Numerical Digit 9\n"
     ]
    },
    {
     "data": {
      "image/png": "[encoded data removed]",
      "text/plain": [
       "<Figure size 640x480 with 1 Axes>"
      ]
     },
     "metadata": {},
     "output_type": "display_data"
    },
    {
     "name": "stdout",
     "output_type": "stream",
     "text": [
      "Neural Network's Prediction: [9]\n",
      "Actual Train Digit Image Label: 9\n",
      "Correctly Predicted Numerical Digit 9\n"
     ]
    },
    {
     "data": {
      "image/png": "[encoded data removed]",
      "text/plain": [
       "<Figure size 640x480 with 1 Axes>"
      ]
     },
     "metadata": {},
     "output_type": "display_data"
    },
    {
     "name": "stdout",
     "output_type": "stream",
     "text": [
      "Neural Network's Prediction: [4]\n",
      "Actual Train Digit Image Label: 4\n",
      "Correctly Predicted Numerical Digit 4\n"
     ]
    },
    {
     "data": {
      "image/png": "[encoded data removed]",
      "text/plain": [
       "<Figure size 640x480 with 1 Axes>"
      ]
     },
     "metadata": {},
     "output_type": "display_data"
    },
    {
     "name": "stdout",
     "output_type": "stream",
     "text": [
      "Neural Network's Prediction: [5]\n",
      "Actual Train Digit Image Label: 5\n",
      "Correctly Predicted Numerical Digit 5\n"
     ]
    },
    {
     "data": {
      "image/png": "[encoded data removed]",
      "text/plain": [
       "<Figure size 640x480 with 1 Axes>"
      ]
     },
     "metadata": {},
     "output_type": "display_data"
    },
    {
     "name": "stdout",
     "output_type": "stream",
     "text": [
      "Neural Network's Prediction: [9]\n",
      "Actual Train Digit Image Label: 9\n",
      "Correctly Predicted Numerical Digit 9\n"
     ]
    },
    {
     "data": {
      "image/png": "[encoded data removed]",
      "text/plain": [
       "<Figure size 640x480 with 1 Axes>"
      ]
     },
     "metadata": {},
     "output_type": "display_data"
    }
   ],
   "source": [
    "#test random numbers against our neural network\n",
    "for i in range(10):\n",
    "    guessPredictionTest(i, weight1, bias1, weight2, bias2)"
   ]
  },
  {
   "cell_type": "markdown",
   "id": "0f627325",
   "metadata": {},
   "source": [
    "### Test Neural Network Model with Test Data Set (not training data)"
   ]
  },
  {
   "cell_type": "code",
   "execution_count": 57,
   "id": "c1ecc9ac",
   "metadata": {},
   "outputs": [
    {
     "name": "stdout",
     "output_type": "stream",
     "text": [
      "[8 4 9 9 9 8 3 9 2 3 1 0 9 3 7 0 3 4 7 3 7 5 8 6 2 8 9 8 7 0 8 6 8 2 3 6 3\n",
      " 2 2 1 2 3 1 8 5 4 1 4 7 8 8 7 5 7 1 6 3 1 8 0 4 6 6 3 3 9 1 7 6 6 9 8 6 0\n",
      " 2 9 9 7 2 9 7 5 0 7 6 1 7 3 6 3 4 5 4 8 1 5 8 6 4 6 4 1 1 7 0 6 5 0 4 4 0\n",
      " 4 8 8 9 4 3 1 3 8 5 0 1 8 5 2 4 0 8 7 4 7 1 8 9 3 7 8 9 9 9 4 3 4 4 8 9 1\n",
      " 2 5 8 3 7 3 4 1 1 2 1 9 4 5 1 6 0 2 7 7 4 5 1 7 3 0 4 8 9 7 6 5 0 6 3 9 5\n",
      " 3 5 7 7 8 8 5 6 5 4 6 9 4 5 7 6 6 8 4 0 2 4 8 6 1 7 5 2 0 1 5 6 5 9 3 0 6\n",
      " 0 9 4 0 5 0 2 6 0 4 4 1 1 4 7 2 3 5 9 1 9 6 6 2 0 0 9 7 3 2 6 0 5 3 5 2 6\n",
      " 3 1 4 3 7 3 4 5 8 9 0 9 4 0 7 9 4 0 1 1 5 3 3 6 9 2 0 2 5 6 6 7 9 6 9 7 8\n",
      " 2 9 1 1 6 6 2 2 4 3 9 6 3 5 1 4 9 3 4 8 0 0 1 7 5 4 6 3 2 6 8 7 3 8 0 2 8\n",
      " 0 5 1 4 6 4 9 3 7 7 7 6 7 9 0 4 3 9 3 9 7 7 6 1 6 5 2 3 4 0 7 2 0 2 4 6 1\n",
      " 8 4 9 0 1 6 3 4 7 8 1 5 5 6 2 0 5 4 6 7 5 6 3 7 4 5 1 0 5 5 3 9 7 3 2 5 0\n",
      " 0 7 4 0 4 9 2 8 2 7 5 7 6 5 3 9 6 7 1 1 9 6 3 7 7 2 0 7 9 1 8 2 2 4 7 6 7\n",
      " 8 9 6 8 7 8 4 5 8 2 1 1 6 6 4 5 2 3 6 6 3 4 3 3 8 6 8 5 7 7 0 9 7 4 9 0 7\n",
      " 5 6 6 2 9 8 8 2 6 5 9 9 8 6 6 8 6 1 7 7 6 6 6 1 1 8 8 3 5 6 5 4 9 6 6 9 1\n",
      " 3 7 1 3 4 3 1 6 3 1 5 4 4 8 1 7 0 7 3 1 6 8 0 2 7 5 5 3 2 6 9 2 9 0 1 1 8\n",
      " 5 4 9 9 8 0 4 5 7 7 1 0 7 3 8 4 0 8 3 9 4 4 2 3 5 4 1 2 8 2 9 7 3 9 3 8 6\n",
      " 9 5 1 1 6 6 4 9 3 3 0 6 8 1 2 8 8 1 4 2 6 3 4 9 5 6 6 5 0 3 7 3 6 8 0 2 8\n",
      " 7 5 8 0 1 6 7 5 8 4 8 5 7 9 9 8 6 9 3 8 8 0 1 6 4 7 8 8 9 1 1 8 1 1 2 3 8\n",
      " 3 4 9 1 7 9 8 1 4 4 6 5 8 2 9 3 2 8 5 2 9 3 7 4 4 8 7 9 5 0 6 2 4 4 7 8 5\n",
      " 9 1 5 2 5 1 0 1 9 0 8 7 6 5 5 0 5 9 7 9 3 9 1 4 6 6 5 9 3 1 8 6 3 5 1 9 0\n",
      " 8 1 4 7 8 1 3 7 9 8 6 8 9 8 1 5 1 6 9 3 7 3 5 7 1 5 3 0 0 7 3 5 9 9 1 8 6\n",
      " 7 5 0 6 5 6 9 6 4 9 3 2 5 1 1 2 4 2 2 2 7 0 4 2 7 3 6 1 7 0 7 6 8 0 7 7 3\n",
      " 2 6 2 3 2 0 9 0 8 2 8 1 9 8 7 3 4 4 8 8 8 1 9 1 7 8 3 0 2 1 3 7 6 1 1 1 3\n",
      " 1 5 3 0 6 3 5 7 9 2 8 2 0 7 5 1 0 1 2 2 3 5 1 6 1 0 7 1 4 9 1 6 9 7 7 9 1\n",
      " 1 2 4 1 2 2 4 7 2 8 0 1 9 5 7 5 0 4 5 0 3 0 3 4 0 5 9 7 3 2 8 6 1 2 9 2 8\n",
      " 9 2 2 2 5 4 6 0 6 2 4 7 1 5 5 3 8 0 4 4 1 1 1 7 5 6 7 5 4 6 3 0 0 8 4 7 9\n",
      " 7 4 3 7 2 4 5 5 4 0 9 2 6 5 3 6 6 6 2 9 8 4 5 3 6 4 8 2 2 8 7 6 7 8 7 7 3\n",
      " 5] [8 4 9 9 9 8 3 9 2 8 1 0 9 3 7 0 3 2 7 3 7 5 8 6 2 8 7 8 3 0 8 6 8 2 3 6 3\n",
      " 2 2 1 2 3 1 8 8 2 1 4 7 8 8 3 5 7 1 6 3 1 8 0 4 6 6 3 3 9 1 7 6 6 9 4 6 0\n",
      " 2 9 9 3 2 9 7 7 0 3 5 1 7 3 6 3 4 0 4 8 1 5 8 6 4 6 4 1 1 7 0 8 5 0 4 4 0\n",
      " 4 8 8 3 4 2 1 3 8 5 0 1 8 5 2 4 0 8 7 4 7 1 8 7 3 7 5 9 4 9 4 3 4 4 2 4 1\n",
      " 2 5 8 2 7 3 4 1 1 2 1 7 2 3 1 6 0 3 7 7 4 5 1 7 3 0 4 8 9 9 6 5 0 6 3 5 5\n",
      " 3 5 7 7 8 5 5 6 2 4 6 9 4 5 7 6 6 8 8 0 2 4 8 6 1 3 5 3 0 1 5 6 5 9 3 0 6\n",
      " 0 9 4 0 5 0 2 6 0 4 4 1 1 4 7 2 8 5 9 1 9 6 6 3 0 0 9 9 3 2 6 0 5 3 5 2 6\n",
      " 0 1 4 3 7 5 4 5 8 9 0 9 4 0 9 9 4 0 1 1 5 5 3 8 9 6 0 2 5 6 6 7 9 6 9 7 2\n",
      " 2 9 1 1 6 6 2 2 4 3 9 6 3 5 1 4 9 3 4 8 0 0 1 1 8 8 6 3 2 6 8 7 3 1 0 2 8\n",
      " 0 5 1 4 6 4 4 3 7 7 7 6 7 9 0 4 3 9 3 9 7 7 6 1 6 5 2 3 4 6 7 2 0 2 9 6 1\n",
      " 2 4 9 0 6 2 3 4 7 3 1 3 5 6 2 0 5 4 6 7 5 6 3 7 4 0 1 0 8 5 3 3 7 8 2 5 0\n",
      " 5 7 4 0 4 9 2 8 2 7 3 7 6 5 3 9 6 7 1 1 7 6 3 7 7 2 0 7 9 1 8 2 2 4 7 6 7\n",
      " 8 9 6 8 7 8 4 5 8 2 1 1 6 6 4 5 2 3 6 6 2 4 3 3 8 6 8 5 7 7 0 9 9 4 9 0 7\n",
      " 5 6 6 2 0 8 8 2 6 5 3 9 8 6 6 8 6 1 7 7 6 6 6 1 1 8 8 3 5 6 5 4 9 6 6 9 1\n",
      " 2 9 1 5 4 3 1 6 3 1 5 4 4 8 1 7 0 7 3 1 6 4 0 2 7 5 0 8 5 6 9 2 9 0 8 1 8\n",
      " 5 4 9 9 8 0 4 3 7 7 1 0 7 3 8 4 0 8 3 9 4 9 2 8 3 4 1 2 8 6 7 7 5 9 3 8 6\n",
      " 5 5 1 1 6 6 4 9 3 3 0 6 8 1 2 8 8 1 4 2 6 3 4 9 5 6 6 5 0 3 9 3 6 2 0 7 8\n",
      " 7 5 8 0 1 6 7 5 4 4 8 5 7 9 9 8 6 9 3 8 8 0 1 6 9 7 8 0 9 1 1 8 1 1 2 3 8\n",
      " 3 4 9 1 7 9 8 1 4 4 6 5 8 2 4 3 2 8 5 2 9 5 7 4 9 8 7 7 5 0 6 2 4 4 7 8 5\n",
      " 9 1 5 2 5 1 0 1 9 0 8 7 6 5 5 0 5 9 7 9 3 9 1 4 6 6 5 9 3 1 8 6 3 5 1 9 0\n",
      " 8 1 4 9 8 1 3 7 9 8 6 8 9 8 1 3 8 6 9 3 7 3 5 7 1 5 3 0 0 7 3 5 9 9 1 8 6\n",
      " 7 5 0 6 5 6 4 6 4 9 3 2 5 1 1 9 4 2 5 2 7 0 4 2 2 3 6 1 7 0 3 6 8 0 7 7 3\n",
      " 2 6 6 3 2 0 9 0 8 7 8 1 9 8 7 3 4 4 8 8 8 1 9 1 9 8 3 0 2 1 3 7 6 1 1 1 3\n",
      " 1 0 3 0 4 3 5 7 9 5 8 2 0 7 5 1 5 1 2 2 3 5 1 6 1 0 7 1 4 9 1 6 9 7 7 9 1\n",
      " 1 2 4 1 2 2 4 7 2 8 0 1 9 5 7 5 0 4 6 0 3 0 5 4 0 5 9 7 3 2 8 6 1 2 2 2 8\n",
      " 9 2 2 2 5 4 6 0 6 2 4 7 1 5 5 3 8 0 4 4 1 1 1 7 5 6 7 5 4 3 3 9 4 8 4 7 9\n",
      " 7 9 2 7 2 4 5 5 4 0 9 2 6 5 3 6 6 6 2 9 8 4 5 3 6 4 8 2 2 8 7 8 7 8 7 7 3\n",
      " 5]\n",
      "Developer Test Data Set accuracy: 0.884\n"
     ]
    }
   ],
   "source": [
    "developerGuessPrediction = guessPrediction(devImages , weight1, bias1, weight2, bias2)\n",
    "accuracy = fetchAccuracy(developerGuessPrediction, devLabels)\n",
    "print(f\"Developer Test Data Set accuracy: {accuracy}\")"
   ]
  },
  {
   "cell_type": "code",
   "execution_count": 58,
   "id": "7cb851e5",
   "metadata": {},
   "outputs": [
    {
     "data": {
      "text/html": [
       "<div>\n",
       "<style scoped>\n",
       "    .dataframe tbody tr th:only-of-type {\n",
       "        vertical-align: middle;\n",
       "    }\n",
       "\n",
       "    .dataframe tbody tr th {\n",
       "        vertical-align: top;\n",
       "    }\n",
       "\n",
       "    .dataframe thead th {\n",
       "        text-align: right;\n",
       "    }\n",
       "</style>\n",
       "<table border=\"1\" class=\"dataframe\">\n",
       "  <thead>\n",
       "    <tr style=\"text-align: right;\">\n",
       "      <th></th>\n",
       "      <th>pixel0</th>\n",
       "      <th>pixel1</th>\n",
       "      <th>pixel2</th>\n",
       "      <th>pixel3</th>\n",
       "      <th>pixel4</th>\n",
       "      <th>pixel5</th>\n",
       "      <th>pixel6</th>\n",
       "      <th>pixel7</th>\n",
       "      <th>pixel8</th>\n",
       "      <th>pixel9</th>\n",
       "      <th>...</th>\n",
       "      <th>pixel774</th>\n",
       "      <th>pixel775</th>\n",
       "      <th>pixel776</th>\n",
       "      <th>pixel777</th>\n",
       "      <th>pixel778</th>\n",
       "      <th>pixel779</th>\n",
       "      <th>pixel780</th>\n",
       "      <th>pixel781</th>\n",
       "      <th>pixel782</th>\n",
       "      <th>pixel783</th>\n",
       "    </tr>\n",
       "  </thead>\n",
       "  <tbody>\n",
       "    <tr>\n",
       "      <th>0</th>\n",
       "      <td>0</td>\n",
       "      <td>0</td>\n",
       "      <td>0</td>\n",
       "      <td>0</td>\n",
       "      <td>0</td>\n",
       "      <td>0</td>\n",
       "      <td>0</td>\n",
       "      <td>0</td>\n",
       "      <td>0</td>\n",
       "      <td>0</td>\n",
       "      <td>...</td>\n",
       "      <td>0</td>\n",
       "      <td>0</td>\n",
       "      <td>0</td>\n",
       "      <td>0</td>\n",
       "      <td>0</td>\n",
       "      <td>0</td>\n",
       "      <td>0</td>\n",
       "      <td>0</td>\n",
       "      <td>0</td>\n",
       "      <td>0</td>\n",
       "    </tr>\n",
       "    <tr>\n",
       "      <th>1</th>\n",
       "      <td>0</td>\n",
       "      <td>0</td>\n",
       "      <td>0</td>\n",
       "      <td>0</td>\n",
       "      <td>0</td>\n",
       "      <td>0</td>\n",
       "      <td>0</td>\n",
       "      <td>0</td>\n",
       "      <td>0</td>\n",
       "      <td>0</td>\n",
       "      <td>...</td>\n",
       "      <td>0</td>\n",
       "      <td>0</td>\n",
       "      <td>0</td>\n",
       "      <td>0</td>\n",
       "      <td>0</td>\n",
       "      <td>0</td>\n",
       "      <td>0</td>\n",
       "      <td>0</td>\n",
       "      <td>0</td>\n",
       "      <td>0</td>\n",
       "    </tr>\n",
       "    <tr>\n",
       "      <th>2</th>\n",
       "      <td>0</td>\n",
       "      <td>0</td>\n",
       "      <td>0</td>\n",
       "      <td>0</td>\n",
       "      <td>0</td>\n",
       "      <td>0</td>\n",
       "      <td>0</td>\n",
       "      <td>0</td>\n",
       "      <td>0</td>\n",
       "      <td>0</td>\n",
       "      <td>...</td>\n",
       "      <td>0</td>\n",
       "      <td>0</td>\n",
       "      <td>0</td>\n",
       "      <td>0</td>\n",
       "      <td>0</td>\n",
       "      <td>0</td>\n",
       "      <td>0</td>\n",
       "      <td>0</td>\n",
       "      <td>0</td>\n",
       "      <td>0</td>\n",
       "    </tr>\n",
       "    <tr>\n",
       "      <th>3</th>\n",
       "      <td>0</td>\n",
       "      <td>0</td>\n",
       "      <td>0</td>\n",
       "      <td>0</td>\n",
       "      <td>0</td>\n",
       "      <td>0</td>\n",
       "      <td>0</td>\n",
       "      <td>0</td>\n",
       "      <td>0</td>\n",
       "      <td>0</td>\n",
       "      <td>...</td>\n",
       "      <td>0</td>\n",
       "      <td>0</td>\n",
       "      <td>0</td>\n",
       "      <td>0</td>\n",
       "      <td>0</td>\n",
       "      <td>0</td>\n",
       "      <td>0</td>\n",
       "      <td>0</td>\n",
       "      <td>0</td>\n",
       "      <td>0</td>\n",
       "    </tr>\n",
       "    <tr>\n",
       "      <th>4</th>\n",
       "      <td>0</td>\n",
       "      <td>0</td>\n",
       "      <td>0</td>\n",
       "      <td>0</td>\n",
       "      <td>0</td>\n",
       "      <td>0</td>\n",
       "      <td>0</td>\n",
       "      <td>0</td>\n",
       "      <td>0</td>\n",
       "      <td>0</td>\n",
       "      <td>...</td>\n",
       "      <td>0</td>\n",
       "      <td>0</td>\n",
       "      <td>0</td>\n",
       "      <td>0</td>\n",
       "      <td>0</td>\n",
       "      <td>0</td>\n",
       "      <td>0</td>\n",
       "      <td>0</td>\n",
       "      <td>0</td>\n",
       "      <td>0</td>\n",
       "    </tr>\n",
       "  </tbody>\n",
       "</table>\n",
       "<p>5 rows × 784 columns</p>\n",
       "</div>"
      ],
      "text/plain": [
       "   pixel0  pixel1  pixel2  pixel3  pixel4  pixel5  pixel6  pixel7  pixel8  \\\n",
       "0       0       0       0       0       0       0       0       0       0   \n",
       "1       0       0       0       0       0       0       0       0       0   \n",
       "2       0       0       0       0       0       0       0       0       0   \n",
       "3       0       0       0       0       0       0       0       0       0   \n",
       "4       0       0       0       0       0       0       0       0       0   \n",
       "\n",
       "   pixel9  ...  pixel774  pixel775  pixel776  pixel777  pixel778  pixel779  \\\n",
       "0       0  ...         0         0         0         0         0         0   \n",
       "1       0  ...         0         0         0         0         0         0   \n",
       "2       0  ...         0         0         0         0         0         0   \n",
       "3       0  ...         0         0         0         0         0         0   \n",
       "4       0  ...         0         0         0         0         0         0   \n",
       "\n",
       "   pixel780  pixel781  pixel782  pixel783  \n",
       "0         0         0         0         0  \n",
       "1         0         0         0         0  \n",
       "2         0         0         0         0  \n",
       "3         0         0         0         0  \n",
       "4         0         0         0         0  \n",
       "\n",
       "[5 rows x 784 columns]"
      ]
     },
     "execution_count": 58,
     "metadata": {},
     "output_type": "execute_result"
    }
   ],
   "source": [
    "testingData = pd.read_csv('Data/digit-recognizer/test.csv')\n",
    "testingData.head()"
   ]
  },
  {
   "cell_type": "code",
   "execution_count": 59,
   "id": "aae794c2",
   "metadata": {},
   "outputs": [],
   "source": [
    "def guessPrediction(X, weight1, bias1, weight2, bias2):\n",
    "    _,_,_,A2 = forwardPropagation(weight1, bias1, weight2, bias2, X)\n",
    "    return fetchPredictions(A2)\n",
    "\n",
    "def guessPredictionTest(i, weight1, bias1, weight2, bias2):\n",
    "    currentDigitImage = devImages[:, i, None]\n",
    "    digitImageLabel = devLabels[i]\n",
    "    predictionGuess = guessPrediction(devImages[:, i, None], weight1, bias1, weight2, bias2)\n",
    "    print(f\"Neural Network's Prediction: {predictionGuess}\")\n",
    "    print(f\"Actual Test Digit Image Label: {digitImageLabel}\")\n",
    "    if (predictionGuess == digitImageLabel):\n",
    "        print(f\"Correctly Predicted Numerical Digit {digitImageLabel}\")\n",
    "        currentDigitImage = currentDigitImage.reshape((28,28))*255#28*28 pxiel image with 0 to 255 black and white pixel\n",
    "        plt.gray()\n",
    "        #plt.figure(figsize=(4,4))\n",
    "        plt.imshow(currentDigitImage, interpolation='nearest')\n",
    "        plt.axis('off')\n",
    "        plt.tight_layout()\n",
    "        plt.show()\n",
    "    else:\n",
    "        print(f\"Did Not Correctly Predict Numerical Digit {digitImageLabel}!\")"
   ]
  },
  {
   "cell_type": "code",
   "execution_count": 60,
   "id": "a4a641bd",
   "metadata": {},
   "outputs": [
    {
     "name": "stdout",
     "output_type": "stream",
     "text": [
      "Neural Network's Prediction: [8]\n",
      "Actual Test Digit Image Label: 8\n",
      "Correctly Predicted Numerical Digit 8\n"
     ]
    },
    {
     "data": {
      "image/png": "[encoded data removed]",
      "text/plain": [
       "<Figure size 640x480 with 1 Axes>"
      ]
     },
     "metadata": {},
     "output_type": "display_data"
    },
    {
     "name": "stdout",
     "output_type": "stream",
     "text": [
      "Neural Network's Prediction: [4]\n",
      "Actual Test Digit Image Label: 4\n",
      "Correctly Predicted Numerical Digit 4\n"
     ]
    },
    {
     "data": {
      "image/png": "[encoded data removed]",
      "text/plain": [
       "<Figure size 640x480 with 1 Axes>"
      ]
     },
     "metadata": {},
     "output_type": "display_data"
    },
    {
     "name": "stdout",
     "output_type": "stream",
     "text": [
      "Neural Network's Prediction: [9]\n",
      "Actual Test Digit Image Label: 9\n",
      "Correctly Predicted Numerical Digit 9\n"
     ]
    },
    {
     "data": {
      "image/png": "[encoded data removed]",
      "text/plain": [
       "<Figure size 640x480 with 1 Axes>"
      ]
     },
     "metadata": {},
     "output_type": "display_data"
    },
    {
     "name": "stdout",
     "output_type": "stream",
     "text": [
      "Neural Network's Prediction: [9]\n",
      "Actual Test Digit Image Label: 9\n",
      "Correctly Predicted Numerical Digit 9\n"
     ]
    },
    {
     "data": {
      "image/png": "[encoded data removed]",
      "text/plain": [
       "<Figure size 640x480 with 1 Axes>"
      ]
     },
     "metadata": {},
     "output_type": "display_data"
    },
    {
     "name": "stdout",
     "output_type": "stream",
     "text": [
      "Neural Network's Prediction: [9]\n",
      "Actual Test Digit Image Label: 9\n",
      "Correctly Predicted Numerical Digit 9\n"
     ]
    },
    {
     "data": {
      "image/png": "[encoded data removed]",
      "text/plain": [
       "<Figure size 640x480 with 1 Axes>"
      ]
     },
     "metadata": {},
     "output_type": "display_data"
    },
    {
     "name": "stdout",
     "output_type": "stream",
     "text": [
      "Neural Network's Prediction: [8]\n",
      "Actual Test Digit Image Label: 8\n",
      "Correctly Predicted Numerical Digit 8\n"
     ]
    },
    {
     "data": {
      "image/png": "[encoded data removed]",
      "text/plain": [
       "<Figure size 640x480 with 1 Axes>"
      ]
     },
     "metadata": {},
     "output_type": "display_data"
    },
    {
     "name": "stdout",
     "output_type": "stream",
     "text": [
      "Neural Network's Prediction: [3]\n",
      "Actual Test Digit Image Label: 3\n",
      "Correctly Predicted Numerical Digit 3\n"
     ]
    },
    {
     "data": {
      "image/png": "[encoded data removed]",
      "text/plain": [
       "<Figure size 640x480 with 1 Axes>"
      ]
     },
     "metadata": {},
     "output_type": "display_data"
    },
    {
     "name": "stdout",
     "output_type": "stream",
     "text": [
      "Neural Network's Prediction: [9]\n",
      "Actual Test Digit Image Label: 9\n",
      "Correctly Predicted Numerical Digit 9\n"
     ]
    },
    {
     "data": {
      "image/png": "[encoded data removed]",
      "text/plain": [
       "<Figure size 640x480 with 1 Axes>"
      ]
     },
     "metadata": {},
     "output_type": "display_data"
    },
    {
     "name": "stdout",
     "output_type": "stream",
     "text": [
      "Neural Network's Prediction: [2]\n",
      "Actual Test Digit Image Label: 2\n",
      "Correctly Predicted Numerical Digit 2\n"
     ]
    },
    {
     "data": {
      "image/png": "[encoded data removed]",
      "text/plain": [
       "<Figure size 640x480 with 1 Axes>"
      ]
     },
     "metadata": {},
     "output_type": "display_data"
    },
    {
     "name": "stdout",
     "output_type": "stream",
     "text": [
      "Neural Network's Prediction: [3]\n",
      "Actual Test Digit Image Label: 8\n",
      "Did Not Correctly Predict Numerical Digit 8!\n"
     ]
    }
   ],
   "source": [
    "#test random numbers against our neural network\n",
    "for i in range(10):\n",
    "    guessPredictionTest(i, weight1, bias1, weight2, bias2)"
   ]
  }
 ],
 "metadata": {
  "kernelspec": {
   "display_name": "venv",
   "language": "python",
   "name": "python3"
  },
  "language_info": {
   "codemirror_mode": {
    "name": "ipython",
    "version": 3
   },
   "file_extension": ".py",
   "mimetype": "text/x-python",
   "name": "python",
   "nbconvert_exporter": "python",
   "pygments_lexer": "ipython3",
   "version": "3.13.3"
  }
 },
 "nbformat": 4,
 "nbformat_minor": 5
}
